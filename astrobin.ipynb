{
 "cells": [
  {
   "cell_type": "code",
   "execution_count": null,
   "metadata": {
    "collapsed": true
   },
   "outputs": [],
   "source": [
    "import requests\n",
    "import json\n",
    "from secrets import ASTROBIN_KEY, ASTROBIN_SECRET"
   ]
  },
  {
   "cell_type": "code",
   "execution_count": null,
   "metadata": {
    "collapsed": true
   },
   "outputs": [],
   "source": [
    "astrobin_url = 'http://www.astrobin.com'\n",
    "api_url = '/api/v1/image/'\n",
    "base_params = {'api_key': ASTROBIN_KEY, 'api_secret': ASTROBIN_SECRET}\n",
    "data_dir = 'data/'"
   ]
  },
  {
   "cell_type": "code",
   "execution_count": null,
   "metadata": {
    "collapsed": true
   },
   "outputs": [],
   "source": [
    "def search(queries):\n",
    "    results = []\n",
    "    for query in queries:\n",
    "        query_results = []\n",
    "        print 'Querying... ' + str(query)\n",
    "        query.update(base_params)\n",
    "        search_request = requests.get(astrobin_url+api_url, params=query)\n",
    "        if search_request.status_code == 200:\n",
    "            page_results = json.loads(search_request.text)\n",
    "            print 'Attempting to fetch ' + str(page_results['meta']['total_count']) + ' results...'\n",
    "            query_results.extend(page_results['objects'])\n",
    "            while 'next' in page_results['meta']:\n",
    "                search_request = requests.get(astrobin_url+page_results['meta']['next'])\n",
    "                if search_request.status_code == 200:\n",
    "                    page_results = json.loads(search_request.text)\n",
    "                    query_results.extend(page_results['objects'])\n",
    "                    print page_results['meta']['offset']\n",
    "                else:\n",
    "                    print 'NEXT PAGE FAILED: ' + str(page_results['meta']['offset'])\n",
    "                    \n",
    "        else:\n",
    "            print 'SEARCH FAILED'\n",
    "            print query\n",
    "        \n",
    "        print 'Fetched ' + str(len(query_results)) + ' results for query ' + str(query)\n",
    "        results.extend(query_results)\n",
    "    \n",
    "    print 'Fetched ' + str(len(results)) + ' results total.'\n",
    "    return results"
   ]
  },
  {
   "cell_type": "code",
   "execution_count": null,
   "metadata": {
    "collapsed": true
   },
   "outputs": [],
   "source": [
    "def build_metadata(results):\n",
    "    metadata = {}\n",
    "    for result in results:\n",
    "        if result['id'] not in metadata:\n",
    "            metadata[result['id']] = result\n",
    "    \n",
    "    print 'Found ' + str(len(metadata.keys())) + ' unique metadata entries for ' + str(len(results)) + ' results.'\n",
    "    return metadata"
   ]
  },
  {
   "cell_type": "code",
   "execution_count": null,
   "metadata": {
    "collapsed": true
   },
   "outputs": [],
   "source": [
    "def download_image(details, image_dir=''):\n",
    "    image_request = requests.get(details['url_real'])\n",
    "    if image_request.status_code == 200:\n",
    "        with open(data_dir+image_dir+details['id']+'.jpg', 'wb') as image:\n",
    "            image.write(image_request.content)\n",
    "    else:\n",
    "        print 'IMAGE REQUEST FAILED: ' + details['id']"
   ]
  },
  {
   "cell_type": "code",
   "execution_count": null,
   "metadata": {
    "collapsed": false
   },
   "outputs": [],
   "source": [
    "jupiter_results = search([{'title__icontains': 'jupiter'}, {'description__icontains': 'jupiter'}])"
   ]
  },
  {
   "cell_type": "code",
   "execution_count": null,
   "metadata": {
    "collapsed": true
   },
   "outputs": [],
   "source": [
    "with open(data_dir+'jupiter/jupiter_results.json','w') as outfile:\n",
    "    json.dump(jupiter_results, outfile)"
   ]
  },
  {
   "cell_type": "code",
   "execution_count": null,
   "metadata": {
    "collapsed": true
   },
   "outputs": [],
   "source": [
    "jupiter_metadata = build_metadata(jupiter_results)"
   ]
  },
  {
   "cell_type": "code",
   "execution_count": null,
   "metadata": {
    "collapsed": true
   },
   "outputs": [],
   "source": [
    "with open(data_dir+'jupiter/jupiter_metadata.json') as outfile:\n",
    "    json.dump(jupiter_metadata, outfile)"
   ]
  }
 ],
 "metadata": {
  "kernelspec": {
   "display_name": "Python 2",
   "language": "python",
   "name": "python2"
  },
  "language_info": {
   "codemirror_mode": {
    "name": "ipython",
    "version": 2
   },
   "file_extension": ".py",
   "mimetype": "text/x-python",
   "name": "python",
   "nbconvert_exporter": "python",
   "pygments_lexer": "ipython2",
   "version": "2.7.10"
  }
 },
 "nbformat": 4,
 "nbformat_minor": 0
}
