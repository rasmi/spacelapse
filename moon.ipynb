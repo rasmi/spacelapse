{
 "cells": [
  {
   "cell_type": "code",
   "execution_count": null,
   "metadata": {
    "collapsed": false
   },
   "outputs": [],
   "source": [
    "import json\n",
    "import glob\n",
    "import string\n",
    "import numpy as np\n",
    "import matplotlib.pyplot as plt\n",
    "from skimage import io\n",
    "from skimage.feature import match_template, canny\n",
    "from skimage.morphology import disk\n",
    "from scipy import ndimage as ndi\n",
    "%matplotlib inline"
   ]
  },
  {
   "cell_type": "code",
   "execution_count": null,
   "metadata": {
    "collapsed": false
   },
   "outputs": [],
   "source": [
    "data_dir = 'data/'\n",
    "template_dir = 'templates/'\n",
    "moon_dir = data_dir+'moon/'\n",
    "moon_template_dir = template_dir+'moon/'"
   ]
  },
  {
   "cell_type": "code",
   "execution_count": null,
   "metadata": {
    "collapsed": false
   },
   "outputs": [],
   "source": [
    "moon_images = glob.glob(moon_dir+'*.jpg')"
   ]
  },
  {
   "cell_type": "code",
   "execution_count": null,
   "metadata": {
    "collapsed": false
   },
   "outputs": [],
   "source": [
    "moon_template_images = glob.glob(moon_template_dir+'[0-9]*.jpg')"
   ]
  },
  {
   "cell_type": "code",
   "execution_count": null,
   "metadata": {
    "collapsed": true
   },
   "outputs": [],
   "source": [
    "def match_images(filenames, templates, threshold=0.5):\n",
    "    matches = {template: [] for template in templates}\n",
    "    \n",
    "    template_images = []\n",
    "    for template in templates:\n",
    "        template_images.append(io.imread(template))\n",
    "\n",
    "    for filename in filenames:\n",
    "        match_results = []\n",
    "        image = io.imread(filename, as_grey=True)\n",
    "        for template in template_images:\n",
    "            match_results.append(match_template(image, template))\n",
    "        \n",
    "        # Find the template with the greatest match.\n",
    "        match_results = np.array(match_results)\n",
    "        max_idx = np.unravel_index(match_results.argmax(), match_results.shape)\n",
    "        if match_results[max_idx] > threshold:\n",
    "            template_match = templates[max_idx[0]]\n",
    "            image_id = filename.translate(None, string.letters).translate(None, string.punctuation)\n",
    "            matches[template_match].append(image_id)\n",
    "    \n",
    "    return matches"
   ]
  },
  {
   "cell_type": "code",
   "execution_count": null,
   "metadata": {
    "collapsed": false
   },
   "outputs": [],
   "source": [
    "moon_template_matches = match_images(moon_images, moon_template_images)"
   ]
  },
  {
   "cell_type": "code",
   "execution_count": null,
   "metadata": {
    "collapsed": true
   },
   "outputs": [],
   "source": [
    "sample_moon = io.imread(moon_dir+'121.jpg', as_grey=True)"
   ]
  },
  {
   "cell_type": "code",
   "execution_count": null,
   "metadata": {
    "collapsed": false
   },
   "outputs": [],
   "source": [
    "io.imshow(sample_moon)"
   ]
  },
  {
   "cell_type": "code",
   "execution_count": null,
   "metadata": {
    "collapsed": false
   },
   "outputs": [],
   "source": [
    "plt.hist(sample_moon.ravel(), bins=20,  fc='k')"
   ]
  },
  {
   "cell_type": "code",
   "execution_count": null,
   "metadata": {
    "collapsed": false
   },
   "outputs": [],
   "source": [
    "io.imshow(sample_moon > 0.01)"
   ]
  },
  {
   "cell_type": "code",
   "execution_count": null,
   "metadata": {
    "collapsed": true
   },
   "outputs": [],
   "source": [
    "moon_edges = canny(sample_moon, sigma=0.5)"
   ]
  },
  {
   "cell_type": "code",
   "execution_count": null,
   "metadata": {
    "collapsed": false
   },
   "outputs": [],
   "source": [
    "io.imshow(moon_edges)"
   ]
  },
  {
   "cell_type": "code",
   "execution_count": null,
   "metadata": {
    "collapsed": false
   },
   "outputs": [],
   "source": [
    "moon_filled = ndi.binary_fill_holes(moon_edges)"
   ]
  },
  {
   "cell_type": "code",
   "execution_count": null,
   "metadata": {
    "collapsed": false
   },
   "outputs": [],
   "source": [
    "io.imshow(moon_filled)"
   ]
  }
 ],
 "metadata": {
  "kernelspec": {
   "display_name": "Python 2",
   "language": "python",
   "name": "python2"
  },
  "language_info": {
   "codemirror_mode": {
    "name": "ipython",
    "version": 2
   },
   "file_extension": ".py",
   "mimetype": "text/x-python",
   "name": "python",
   "nbconvert_exporter": "python",
   "pygments_lexer": "ipython2",
   "version": "2.7.10"
  }
 },
 "nbformat": 4,
 "nbformat_minor": 0
}
